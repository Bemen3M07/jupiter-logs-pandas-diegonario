{
 "cells": [
  {
   "cell_type": "code",
   "execution_count": 1,
   "id": "11a751fc-506a-4967-8a4c-b21ef66448d1",
   "metadata": {},
   "outputs": [
    {
     "name": "stdout",
     "output_type": "stream",
     "text": [
      "Fitxer CSV generat correctament!\n"
     ]
    }
   ],
   "source": [
    "import csv\n",
    "\n",
    "# Dades per al CSV\n",
    "dades = [\n",
    "    [\"Professor\", \"Alumne\", \"M01\", \"M04\", \"M03\", \"M05\"],\n",
    "    [\"Emili\", \"Xavier\", 7, 9, 5, 8],\n",
    "    [\"Mario\", \"Marc\", 10, 3, 5, 8],\n",
    "    [\"Steven\", \"Jaume\", 8, 5, 6, 4],\n",
    "    [\"Clara\", \"Júlia\", 6, 7, 9, 8],\n",
    "    [\"Anna\", \"Pau\", 9, 8, 7, 6],\n",
    "    [\"Joan\", \"Carla\", 10, 9, 8, 7],\n",
    "    [\"Albert\", \"Marta\", 8, 7, 9, 6],\n",
    "    [\"Berta\", \"Nil\", 7, 6, 8, 5],\n",
    "    [\"Maria\", \"Joana\", 9, 10, 6, 7],\n",
    "    [\"Pere\", \"Sofia\", 6, 5, 7, 9],\n",
    "    [\"Andreu\", \"Pol\", 8, 6, 5, 7],\n",
    "    [\"Sara\", \"Lucia\", 7, 9, 8, 6],\n",
    "    [\"Toni\", \"David\", 10, 7, 6, 8],\n",
    "    [\"Laura\", \"Erik\", 8, 9, 7, 5],\n",
    "    [\"Eva\", \"Jordi\", 6, 8, 5, 7],\n",
    "    [\"Marc\", \"Arnau\", 9, 6, 7, 8],\n",
    "    [\"Miquel\", \"Leo\", 7, 8, 6, 5],\n",
    "    [\"Dani\", \"Rosa\", 8, 7, 9, 6],\n",
    "    [\"Lluís\", \"Albert\", 9, 6, 8, 7],\n",
    "    [\"Clàudia\", \"Núria\", 6, 9, 8, 5],\n",
    "]\n",
    "\n",
    "# Escriure les dades al fitxer CSV\n",
    "with open(\"dades_alumnes.csv\", mode=\"w\", newline=\"\") as fitxer:\n",
    "    escriptor = csv.writer(fitxer)\n",
    "    escriptor.writerows(dades)\n",
    "\n",
    "print(\"Fitxer CSV generat correctament!\")\n"
   ]
  },
  {
   "cell_type": "code",
   "execution_count": 2,
   "id": "a45060f3-fbe2-45a9-b8d3-dc560c67beb1",
   "metadata": {},
   "outputs": [
    {
     "name": "stdout",
     "output_type": "stream",
     "text": [
      "  Professor  Alumne  M01  M04  M03  M05\n",
      "0     Emili  Xavier    7    9    5    8\n",
      "1     Mario    Marc   10    3    5    8\n",
      "2    Steven   Jaume    8    5    6    4\n",
      "3     Clara   Júlia    6    7    9    8\n",
      "4      Anna     Pau    9    8    7    6\n"
     ]
    }
   ],
   "source": [
    "import pandas as pd\n",
    "\n",
    "# Carregar el fitxer CSV\n",
    "dades = pd.read_csv(\"dades_alumnes.csv\")\n",
    "\n",
    "# Mostrar les primeres files\n",
    "print(dades.head())  # Mostra les primeres files\n"
   ]
  },
  {
   "cell_type": "code",
   "execution_count": null,
   "id": "107e6db8-a867-455f-b4d7-c0e5a53feb5b",
   "metadata": {},
   "outputs": [],
   "source": []
  }
 ],
 "metadata": {
  "kernelspec": {
   "display_name": "Python 3 (ipykernel)",
   "language": "python",
   "name": "python3"
  },
  "language_info": {
   "codemirror_mode": {
    "name": "ipython",
    "version": 3
   },
   "file_extension": ".py",
   "mimetype": "text/x-python",
   "name": "python",
   "nbconvert_exporter": "python",
   "pygments_lexer": "ipython3",
   "version": "3.12.1"
  }
 },
 "nbformat": 4,
 "nbformat_minor": 5
}
