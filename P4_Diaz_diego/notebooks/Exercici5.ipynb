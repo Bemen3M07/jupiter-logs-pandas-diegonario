{
 "cells": [
  {
   "cell_type": "code",
   "execution_count": 1,
   "id": "7e723d1b-f721-4744-bab1-b6c74fcab312",
   "metadata": {},
   "outputs": [
    {
     "name": "stdout",
     "output_type": "stream",
     "text": [
      "1. Mitjana de cada alumne:\n",
      "    Alumne  Mitjana_Alumne\n",
      "0   Xavier            7.25\n",
      "1     Marc            6.50\n",
      "2    Jaume            5.75\n",
      "3    Júlia            7.50\n",
      "4      Pau            7.50\n",
      "5    Carla            8.50\n",
      "6    Marta            7.50\n",
      "7      Nil            6.50\n",
      "8    Joana            8.00\n",
      "9    Sofia            6.75\n",
      "10     Pol            6.50\n",
      "11   Lucia            7.50\n",
      "12   David            7.75\n",
      "13    Erik            7.25\n",
      "14   Jordi            6.50\n",
      "15   Arnau            7.50\n",
      "16     Leo            6.50\n",
      "17    Rosa            7.50\n",
      "18  Albert            7.50\n",
      "19   Núria            7.00\n",
      "\n",
      "2. Mitjana global de tots els alumnes: 7.1625\n",
      "\n",
      "3. Percentatges: Aprovats = 100.00%, Suspesos = 0.00%\n",
      "\n",
      "4. Nota més alta: 8.5 | Nota més baixa: 5.75\n",
      "\n",
      "5. Millor alumne: Carla | Pitjor alumne: Jaume\n"
     ]
    }
   ],
   "source": [
    "import pandas as pd\n",
    "\n",
    "# Carregar el fitxer CSV\n",
    "dades = pd.read_csv(\"dades_alumnes.csv\")\n",
    "\n",
    "# 1. **Afegir una nova columna amb la mitjana de cada alumne**\n",
    "dades[\"Mitjana_Alumne\"] = dades[[\"M01\", \"M04\", \"M03\", \"M05\"]].mean(axis=1)\n",
    "\n",
    "# 2. **Mitjana global de tots els alumnes**\n",
    "mitjana_global = dades[\"Mitjana_Alumne\"].mean()\n",
    "\n",
    "# 3. **Percentatges d'aprovats i suspesos**\n",
    "# Considerarem que una nota ≥ 5 és un aprovat\n",
    "aprovats = dades[\"Mitjana_Alumne\"] >= 5\n",
    "percentatge_aprovats = (aprovats.sum() / len(dades)) * 100\n",
    "percentatge_suspesos = 100 - percentatge_aprovats\n",
    "\n",
    "# 4. **Nota més alta i més baixa**\n",
    "nota_mes_alta = dades[\"Mitjana_Alumne\"].max()\n",
    "nota_mes_baixa = dades[\"Mitjana_Alumne\"].min()\n",
    "\n",
    "# 5. **Alumne amb millor i pitjor mitjana**\n",
    "millor_alumne = dades.loc[dades[\"Mitjana_Alumne\"].idxmax(), \"Alumne\"]\n",
    "pitjor_alumne = dades.loc[dades[\"Mitjana_Alumne\"].idxmin(), \"Alumne\"]\n",
    "\n",
    "# Resultats\n",
    "print(\"1. Mitjana de cada alumne:\")\n",
    "print(dades[[\"Alumne\", \"Mitjana_Alumne\"]])\n",
    "\n",
    "print(\"\\n2. Mitjana global de tots els alumnes:\", mitjana_global)\n",
    "print(f\"\\n3. Percentatges: Aprovats = {percentatge_aprovats:.2f}%, Suspesos = {percentatge_suspesos:.2f}%\")\n",
    "print(\"\\n4. Nota més alta:\", nota_mes_alta, \"| Nota més baixa:\", nota_mes_baixa)\n",
    "print(\"\\n5. Millor alumne:\", millor_alumne, \"| Pitjor alumne:\", pitjor_alumne)\n"
   ]
  },
  {
   "cell_type": "code",
   "execution_count": null,
   "id": "c76e0d50-0512-4d56-be21-e83ae540b3b9",
   "metadata": {},
   "outputs": [],
   "source": []
  }
 ],
 "metadata": {
  "kernelspec": {
   "display_name": "Python 3 (ipykernel)",
   "language": "python",
   "name": "python3"
  },
  "language_info": {
   "codemirror_mode": {
    "name": "ipython",
    "version": 3
   },
   "file_extension": ".py",
   "mimetype": "text/x-python",
   "name": "python",
   "nbconvert_exporter": "python",
   "pygments_lexer": "ipython3",
   "version": "3.12.1"
  }
 },
 "nbformat": 4,
 "nbformat_minor": 5
}
